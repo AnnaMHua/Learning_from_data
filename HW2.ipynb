{
 "cells": [
  {
   "cell_type": "markdown",
   "metadata": {},
   "source": [
    "# Hoeffding Inequality\n",
    "Run a computer simulation for flipping 1,000 virtual fair coins. Flip each coin independently 10 times. Focus on 3 coins as follows: c1 is the first coin flipped, $c_{rand}$ is a coin chosen randomly from the 1,000, and $c_{min}$ is the coin which had the minimum frequency of heads (pick the earlier one in case of a tie). Let ν1, $ν_{rand}$, and $ν_{min}$ be the fraction of heads obtained for the 3 respective coins out of the 10 tosses. \n",
    "\n",
    "Run the experiment 100,000 times in order to get a full distribution of ν1, νrand, and νmin (note that crand and cmin will change from run to run)."
   ]
  },
  {
   "cell_type": "markdown",
   "metadata": {},
   "source": [
    "1. The average value of νmin is closest to: \n",
    "\n",
    "[a] 0\n",
    "\n",
    "[b] 0.01 <---\n",
    "\n",
    "[c] 0.1\n",
    "\n",
    "[d] 0.5\n",
    "\n",
    "[e] 0.67\n"
   ]
  },
  {
   "cell_type": "code",
   "execution_count": 1,
   "metadata": {},
   "outputs": [],
   "source": [
    "import numpy as np\n",
    "import random"
   ]
  },
  {
   "cell_type": "code",
   "execution_count": 2,
   "metadata": {},
   "outputs": [],
   "source": [
    "class coin():\n",
    "    def __init__(self):\n",
    "        self.p = 0.5\n",
    "    \n",
    "    def flip(self):\n",
    "        val = random.random()\n",
    "        if val > self.p:\n",
    "            return 1\n",
    "        else:\n",
    "            return -1"
   ]
  },
  {
   "cell_type": "code",
   "execution_count": 3,
   "metadata": {},
   "outputs": [
    {
     "data": {
      "text/plain": [
       "0.03771000000000172"
      ]
     },
     "execution_count": 3,
     "metadata": {},
     "output_type": "execute_result"
    }
   ],
   "source": [
    "v = []\n",
    "num_experiments=10000\n",
    "for j in range(num_experiments):\n",
    "    \n",
    "    num_flips = 10\n",
    "    all_coins = [coin() for x in range(1000)]\n",
    "    num_heads = []\n",
    "    for x in all_coins:\n",
    "        heads = 0\n",
    "        for i in range(num_flips):\n",
    "            if x.flip() ==1:\n",
    "                heads = heads+1\n",
    "        num_heads.append(heads)\n",
    "\n",
    "    c1 = all_coins[0]\n",
    "    ranindex = random.randint(0,999)\n",
    "    c_rand = all_coins[ranindex]\n",
    "    c_min = all_coins[num_heads.index(min(num_heads))]\n",
    "    v1 = num_heads[0]/num_flips\n",
    "    v_rand = num_heads[ranindex]/num_flips\n",
    "    v_min = num_heads[num_heads.index(min(num_heads))]/num_flips\n",
    "    v.append([v1,v_rand,v_min])\n",
    "    \n",
    "sum(np.transpose(v)[2])/num_experiments"
   ]
  },
  {
   "cell_type": "markdown",
   "metadata": {},
   "source": [
    "2. Which coin(s) has a distribution of ν that satisfies the (single-bin) Hoeffding Inequality?\n",
    "\n",
    "[a] c1 only\n",
    "\n",
    "[b] crand only\n",
    "\n",
    "[c] cmin only\n",
    "\n",
    "[d] c1 and crand <--\n",
    "\n",
    "[e] cmin and crand\n"
   ]
  },
  {
   "cell_type": "markdown",
   "metadata": {},
   "source": [
    "# Error and Noise\n",
    "\n",
    "Consider the bin model for a hypothesis h that makes an error with probability µ in approximating a deterministic target function f (both h and f are binary functions). If we use the same h to approximate a noisy version of f given by:\n",
    "\n",
    "\n",
    "\\begin{equation}\n",
    "P(y | x)=\\begin{cases}\n",
    "    \\lambda,& y = f(x)\\\\\n",
    "    1-\\lambda,              & y\\neq f(x)\n",
    "\\end{cases}\n",
    "\\end{equation}\n",
    "\n",
    "\n",
    "3. What is the probability of error that h makes in approximating y? Hint: Two wrongs can make a right!\n",
    "\n",
    "[a] µ\n",
    "\n",
    "[b] λ\n",
    "\n",
    "[c] 1-µ\n",
    "\n",
    "[d] (1 − λ) ∗ µ + λ ∗ (1 − µ)\n",
    "\n",
    "[e] (1 − λ) ∗ (1 − µ) + λ ∗ µ **<---answer**"
   ]
  },
  {
   "cell_type": "markdown",
   "metadata": {},
   "source": [
    "4. At what value of λ will the performance of h be independent of µ?\n",
    "\n",
    "[a] 0\n",
    "\n",
    "[b] 0.5  **<--answer**\n",
    "\n",
    "[c] 1/√2\n",
    "\n",
    "[d] 1\n",
    "\n",
    "[e] No values of λ"
   ]
  },
  {
   "cell_type": "markdown",
   "metadata": {},
   "source": [
    "# Linear Regression\n",
    "\n",
    "In these problems, we will explore how Linear Regression for classification works. As with the Perceptron Learning Algorithm in Homework # 1, you will create your own target function f and data set D. Take d = 2 so you can visualize the problem, and assume X = [−1, 1] × [−1, 1] with uniform probability of picking each x ∈ X . In each run, choose a random line in the plane as your target function f (do this by taking two random, uniformly distributed points in [−1, 1] × [−1, 1] and taking the line passing through them), where one side of the line maps to +1 and the other maps to −1. Choose the inputs xn of the data set as random points (uniformly in X ), and evaluate the target function on each xn to get the corresponding output yn.\n",
    "\n",
    "1. Take N = 100. Use Linear Regression to find g and evaluate Ein, the fraction of in-sample points which got classified incorrectly. Repeat the experiment 1000 times and take the average (keep the g’s as they will be used again in Problem 6). Which of the following values is closest to the average Ein? (Closest is the option that makes the expression |your answer −given option| closest to 0. Use this definition of closest here and throughout.)\n",
    "\n",
    "[a] 0\n",
    "\n",
    "[b] 0.001\n",
    "\n",
    "[c] 0.01  **<--answer**\n",
    "\n",
    "[d] 0.1\n",
    "\n",
    "[e] 0.5\n",
    "\n"
   ]
  },
  {
   "cell_type": "code",
   "execution_count": 4,
   "metadata": {},
   "outputs": [],
   "source": [
    "def f(x1,x2):\n",
    "    return np.sign(x1-0.7*x2+0.6)\n",
    "\n",
    "def data(N):\n",
    "    temp = []\n",
    "    for i in range(N):\n",
    "        x1 = 2*random.random()-1\n",
    "        x2 = 2*random.random()-1\n",
    "        y = f(x1,x2) \n",
    "        temp.append([1,x1,x2,y])\n",
    "    return np.array(temp)\n"
   ]
  },
  {
   "cell_type": "code",
   "execution_count": 5,
   "metadata": {},
   "outputs": [],
   "source": [
    "def regression(data,N):\n",
    "    test_data = data(N)\n",
    "    x = test_data[:,0:3]\n",
    "    y = test_data[:,3]\n",
    "    w = np.linalg.solve(x.T@x,x.T@y)\n",
    "    #w = np.linalg.inv(x.T@x)@x.T@test_data[:,3]\n",
    "    error = 0\n",
    "    for i in range(N):\n",
    "        if np.sign(np.dot(w,x[i])) != test_data[i][3]:\n",
    "            error = error + 1\n",
    "    error = error/N\n",
    "    return w, error"
   ]
  },
  {
   "cell_type": "code",
   "execution_count": 8,
   "metadata": {},
   "outputs": [
    {
     "data": {
      "text/plain": [
       "0.034440000000000026"
      ]
     },
     "execution_count": 8,
     "metadata": {},
     "output_type": "execute_result"
    }
   ],
   "source": [
    "sum = 0\n",
    "for i in range(1000):\n",
    "    w, error  = regression(data,100)\n",
    "    sum = sum + error\n",
    "sum/1000"
   ]
  },
  {
   "cell_type": "markdown",
   "metadata": {},
   "source": [
    "6. Now, generate 1000 fresh points and use them to estimate the out-of-sample error Eout of g that you got in Problem 5 (number of misclassified out-of-sample points / total number of out-of-sample points). Again, run the experiment 1000 times and take the average. Which value is closest to the average Eout?\n",
    "\n",
    "[a] 0\n",
    "\n",
    "[b] 0.001\n",
    "\n",
    "[c] 0.01 **<---answer**\n",
    "\n",
    "[d] 0.1\n",
    "\n",
    "[e] 0.5"
   ]
  },
  {
   "cell_type": "code",
   "execution_count": 11,
   "metadata": {},
   "outputs": [
    {
     "data": {
      "text/plain": [
       "0.045"
      ]
     },
     "execution_count": 11,
     "metadata": {},
     "output_type": "execute_result"
    }
   ],
   "source": [
    "sum = 0\n",
    "for i in range(1000):\n",
    "    w, error  = regression(data,100)\n",
    "    x1 = 2*random.random()-1\n",
    "    x2 = 2*random.random()-1\n",
    "    val = np.sign(np.dot(w,[1,x1,x2]))\n",
    "    y = f(x1,x2)\n",
    "    if val != y:\n",
    "        sum = sum +1\n",
    "sum/1000"
   ]
  },
  {
   "cell_type": "markdown",
   "metadata": {},
   "source": [
    "7. Now, take N = 10. After finding the weights using Linear Regression, use them as a vector of initial weights for the Perceptron Learning Algorithm. Run PLA until it converges to a final vector of weights that completely separates all the in-sample points. Among the choices below, what is the closest value to the average number of iterations (over 1000 runs) that PLA takes to converge? (When implementing PLA, have the algorithm choose a point randomly from the set of misclassified points at each iteration)\n",
    "\n",
    "[a] 1  **<---answer**\n",
    "\n",
    "[b] 15\n",
    "\n",
    "[c] 300\n",
    "\n",
    "[d] 5000\n",
    "\n",
    "[e] 10000"
   ]
  },
  {
   "cell_type": "code",
   "execution_count": 12,
   "metadata": {},
   "outputs": [],
   "source": [
    "# copy PLA from HW1, modify the \n",
    "\n",
    "def update(w,datapoint):\n",
    "    for i in range(len(w)):\n",
    "        w[i] = w[i] + datapoint[3]* datapoint[i]\n",
    "    return w\n",
    "\n",
    "def PLA(N,w):\n",
    "    test_data = data(N)\n",
    "    num_iter = 0\n",
    "    \n",
    "    while True:\n",
    "        wrong_points = []\n",
    "        for i in range(N):\n",
    "            if np.sign(np.dot(w,test_data[i][0:3]))!=test_data[i][3]:\n",
    "                wrong_points.append(test_data[i])\n",
    "        if wrong_points!=[]:\n",
    "            index = random.randint(0,len(wrong_points)-1)\n",
    "            w = update(w,wrong_points[index])\n",
    "            num_iter = num_iter + 1\n",
    "        else:\n",
    "            return num_iter, w\n",
    "        "
   ]
  },
  {
   "cell_type": "code",
   "execution_count": 104,
   "metadata": {
    "scrolled": true
   },
   "outputs": [
    {
     "data": {
      "text/plain": [
       "6.823"
      ]
     },
     "execution_count": 104,
     "metadata": {},
     "output_type": "execute_result"
    }
   ],
   "source": [
    "converge = 0\n",
    "for i in range(1000):\n",
    "    w ,error = regression(10)\n",
    "    num_iter, w = PLA(10,w)\n",
    "    converge = converge + num_iter\n",
    "    \n",
    "converge/1000"
   ]
  },
  {
   "cell_type": "markdown",
   "metadata": {},
   "source": [
    "# Nonliner Transformation\n",
    "\n",
    "In these problems, we again apply Linear Regression for classification. Consider the target function:\n",
    "\n",
    "$$f(x1, x2) = sign(x1^2 + x2^2-0.6)$$\n",
    "\n",
    "Generate a training set of N = 1000 points on X = [−1, 1] × [−1, 1] with a uniform probability of picking each x ∈ X . Generate simulated noise by flipping the sign of the output in a randomly selected 10% subset of the generated training set."
   ]
  },
  {
   "cell_type": "code",
   "execution_count": 13,
   "metadata": {},
   "outputs": [],
   "source": [
    "def nlf(x1,x2):\n",
    "    return np.sign(x1**2+x2**2-0.6)\n",
    "\n",
    "def nldata(N):\n",
    "    temp = []\n",
    "    for i in range(N):\n",
    "        x1 = 2*random.random()-1\n",
    "        x2 = 2*random.random()-1\n",
    "        flip = random.random()\n",
    "        \n",
    "        y = nlf(x1,x2) \n",
    "        if flip <0.1:\n",
    "            y = -y\n",
    "        temp.append([1,x1,x2,y])\n",
    "    return np.array(temp)"
   ]
  },
  {
   "cell_type": "markdown",
   "metadata": {},
   "source": [
    "8. Carry out Linear Regression without transformation, i.e., with feature vector: (1, x1, x2), to find the weight w. What is the closest value to the classification in-sample error Ein? (Run the experiment 1000 times and take the average Ein to reduce variation in your results.)\n",
    "\n",
    "[a] 0 \n",
    "\n",
    "[B] 0.1 \n",
    "\n",
    "[c] 0.3\n",
    "\n",
    "[4] 0.5**<--answer**\n",
    "\n",
    "[e] 0.8"
   ]
  },
  {
   "cell_type": "code",
   "execution_count": 14,
   "metadata": {},
   "outputs": [
    {
     "data": {
      "text/plain": [
       "0.5085300000000006"
      ]
     },
     "execution_count": 14,
     "metadata": {},
     "output_type": "execute_result"
    }
   ],
   "source": [
    "ein = 0\n",
    "for i in range(1000):\n",
    "    w, error = regression(nldata,1000)\n",
    "    ein = ein +error\n",
    "ein/1000"
   ]
  },
  {
   "cell_type": "markdown",
   "metadata": {},
   "source": [
    "9. Now, transform the N = 1000 training data into the following nonlinear feature vector:\n",
    "\n",
    "$$(1, x_1, x_2, x_1x_2, x_1^2, x_2^2)$$\n",
    "\n",
    "Find the vector $\\tilde{w}$ that corresponds to the solution of Linear Regression. Which of the following hypotheses is closest to the one you find? Closest here means agrees the most with your hypothesis (has the highest probability of agreeing on a randomly selected point). Average over a few runs to make sure your answer is stable."
   ]
  },
  {
   "cell_type": "code",
   "execution_count": 26,
   "metadata": {},
   "outputs": [
    {
     "data": {
      "text/plain": [
       "array([-0.98188384, -0.03980265, -0.05536319, -0.14286881,  1.66622832,\n",
       "        1.53915396])"
      ]
     },
     "execution_count": 26,
     "metadata": {},
     "output_type": "execute_result"
    }
   ],
   "source": [
    "def feature():\n",
    "    vecx=nldata(1000)\n",
    "    nlfeature = np.zeros((1000,6))\n",
    "    nlfeature[:,0:3] = vecx[:,0:3]\n",
    "    nlfeature[:,3] = vecx[:,1] *  vecx[:,2]\n",
    "    nlfeature[:,4] = vecx[:,1]**2\n",
    "    nlfeature[:,5] = vecx[:,2]**2\n",
    "    y = vecx[:,3]\n",
    "    return nlfeature, y \n",
    "\n",
    "def nlregression(test_data,y):\n",
    "    \n",
    "    x = test_data\n",
    "    w = np.linalg.solve(x.T@x,x.T@y)\n",
    "    #w = np.linalg.inv(x.T@x)@x.T@test_data[:,3]\n",
    "    error = 0\n",
    "    for i in range(len(x)):\n",
    "        if np.sign(np.dot(w,x[i])) != y[i]:\n",
    "            error = error + 1\n",
    "    error = error/len(x)\n",
    "    return w, error\n",
    "\n",
    "nlfeature ,y =feature()\n",
    "w, error = nlregression(nlfeature,y)\n",
    "w"
   ]
  },
  {
   "cell_type": "markdown",
   "metadata": {},
   "source": [
    "10. What is the closest value to the classification out-of-sample error Eout of your hypothesis from Problem 9? (Estimate it by generating a new set of 1000 points and adding noise, as before. Average over 1000 runs to reduce the variation in your results.)\n",
    "\n",
    "[a] 0 \n",
    "\n",
    "[B] 0.1 \n",
    "\n",
    "[c] 0.3\n",
    "\n",
    "[4] 0.5**<--answer**\n",
    "\n",
    "[e] 0.8"
   ]
  },
  {
   "cell_type": "code",
   "execution_count": 24,
   "metadata": {},
   "outputs": [
    {
     "data": {
      "text/plain": [
       "0.525"
      ]
     },
     "execution_count": 24,
     "metadata": {},
     "output_type": "execute_result"
    }
   ],
   "source": [
    "sumrerror = 0\n",
    "outdatafeature , outy = feature()\n",
    "\n",
    "for i in range(1000):\n",
    "    if np.sign(np.dot(w,outdatafeature[i])) != y[i]:\n",
    "        sumrerror = sumrerror +1\n",
    "        \n",
    "sumrerror/1000"
   ]
  },
  {
   "cell_type": "code",
   "execution_count": null,
   "metadata": {},
   "outputs": [],
   "source": []
  },
  {
   "cell_type": "code",
   "execution_count": null,
   "metadata": {},
   "outputs": [],
   "source": []
  }
 ],
 "metadata": {
  "kernelspec": {
   "display_name": "Python 3",
   "language": "python",
   "name": "python3"
  },
  "language_info": {
   "codemirror_mode": {
    "name": "ipython",
    "version": 3
   },
   "file_extension": ".py",
   "mimetype": "text/x-python",
   "name": "python",
   "nbconvert_exporter": "python",
   "pygments_lexer": "ipython3",
   "version": "3.8.3"
  }
 },
 "nbformat": 4,
 "nbformat_minor": 4
}

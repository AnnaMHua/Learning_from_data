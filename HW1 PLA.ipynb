{
 "cells": [
  {
   "cell_type": "code",
   "execution_count": 44,
   "metadata": {},
   "outputs": [],
   "source": [
    "import numpy as np\n",
    "import random\n",
    "import matplotlib.pyplot as plt"
   ]
  },
  {
   "cell_type": "code",
   "execution_count": 48,
   "metadata": {},
   "outputs": [
    {
     "name": "stdout",
     "output_type": "stream",
     "text": [
      "[[1, 0.21106265128478618, 0.6940505516287059, 1.0], [1, -0.08769564529241713, -0.35636512725735137, 1.0], [1, -0.24198649109312287, 0.5614325387067933, -1.0], [1, -0.4268359690757366, 0.1316451655200075, 1.0], [1, 0.5522198497762112, 0.5086338057462223, 1.0], [1, 0.19290805942006406, -0.283565377578874, 1.0], [1, -0.7807072225542657, 0.6501808053238767, -1.0], [1, -0.017049731211442598, 0.5571105504603495, 1.0], [1, 0.13685984347920432, -0.17107325651834837, 1.0], [1, -0.8625742927216005, -0.5219105482980868, 1.0]]\n"
     ]
    }
   ],
   "source": [
    "def f(x1,x2):\n",
    "    return np.sign(x1-0.7*x2+0.6)\n",
    "\n",
    "def data(N):\n",
    "    temp = []\n",
    "    for i in range(N):\n",
    "        x1 = 2*random.random()-1\n",
    "        x2 = 2*random.random()-1\n",
    "        y = f(x1,x2) \n",
    "        temp.append([1,x1,x2,y])\n",
    "    return temp\n",
    "\n",
    "print(data(10))\n",
    "    "
   ]
  },
  {
   "cell_type": "code",
   "execution_count": 62,
   "metadata": {},
   "outputs": [],
   "source": [
    "w0=0\n",
    "w1 = 0\n",
    "w2 = 0\n",
    "\n",
    "def update(w,datapoint):\n",
    "    for i in range(len(w)):\n",
    "        w[i] = w[i] + datapoint[3]* datapoint[i]\n",
    "    return w\n",
    "\n",
    "def PLA(N):\n",
    "    w = [0,0,0]\n",
    "    a_list = []\n",
    "    test_data = data(N)\n",
    "    num_iter = 0\n",
    "    \n",
    "    while True:\n",
    "        wrong_points = []\n",
    "        for i in range(N):\n",
    "            if np.sign(np.dot(w,test_data[i][0:3]))!=test_data[i][3]:\n",
    "                wrong_points.append(test_data[i])\n",
    "        if wrong_points!=[]:\n",
    "            for point in wrong_points:\n",
    "                w = update(w,point)\n",
    "                num_iter = num_iter + 1\n",
    "        else:\n",
    "            return num_iter, w\n",
    "        "
   ]
  },
  {
   "cell_type": "code",
   "execution_count": 64,
   "metadata": {},
   "outputs": [
    {
     "name": "stdout",
     "output_type": "stream",
     "text": [
      "185.597\n",
      "0.011\n"
     ]
    }
   ],
   "source": [
    "iternume  = 1000\n",
    "sum = 0\n",
    "correct, wrong = 0 ,0\n",
    "for i in range(iternume):\n",
    "    num_iter, w = PLA(100)\n",
    "    sum = sum + num_iter\n",
    "    \n",
    "    x1 = 2*random.random()-1\n",
    "    x2 = 2*random.random()-1\n",
    "    g = np.sign(np.dot(w,[1,x1,x2]))\n",
    "    if g == f(x1,x2):\n",
    "        correct = correct +1\n",
    "    else:\n",
    "        wrong = wrong +1\n",
    "print(sum/1000)\n",
    "print(wrong/1000)"
   ]
  },
  {
   "cell_type": "code",
   "execution_count": null,
   "metadata": {},
   "outputs": [],
   "source": []
  }
 ],
 "metadata": {
  "kernelspec": {
   "display_name": "Python 3",
   "language": "python",
   "name": "python3"
  },
  "language_info": {
   "codemirror_mode": {
    "name": "ipython",
    "version": 3
   },
   "file_extension": ".py",
   "mimetype": "text/x-python",
   "name": "python",
   "nbconvert_exporter": "python",
   "pygments_lexer": "ipython3",
   "version": "3.8.3"
  }
 },
 "nbformat": 4,
 "nbformat_minor": 4
}
